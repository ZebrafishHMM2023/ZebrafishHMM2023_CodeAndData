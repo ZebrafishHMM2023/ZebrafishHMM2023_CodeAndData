{
 "cells": [
  {
   "cell_type": "code",
   "execution_count": 47,
   "id": "e1f2f12c-11a6-44d8-a823-6bd5c874ded2",
   "metadata": {},
   "outputs": [],
   "source": [
    "using CairoMakie\n",
    "CairoMakie.activate!()"
   ]
  },
  {
   "cell_type": "code",
   "execution_count": 17,
   "id": "0806e25e-d563-41f8-89bb-58a280b8f5e3",
   "metadata": {},
   "outputs": [],
   "source": [
    "using HDF5\n",
    "using Random: AbstractRNG\n",
    "using DensityInterface\n",
    "using Distributions\n",
    "using Distributions: logpdf, pdf, Normal, Gamma, fit\n",
    "import Optim: LBFGS, minimizer, optimize\n",
    "using StatsBase\n",
    "using ZebrafishHMM2023: DistributionMissingWrapper"
   ]
  },
  {
   "cell_type": "code",
   "execution_count": null,
   "id": "b0bad306-c0ee-419c-87fc-0bb3b07cf128",
   "metadata": {},
   "outputs": [],
   "source": []
  },
  {
   "cell_type": "code",
   "execution_count": null,
   "id": "954a55e0-3c66-4d7e-8739-32b2f02781c8",
   "metadata": {},
   "outputs": [],
   "source": []
  },
  {
   "cell_type": "markdown",
   "id": "e669fee7-8964-4512-bfd8-eae207a232bf",
   "metadata": {},
   "source": [
    "# Functions and stuff"
   ]
  },
  {
   "cell_type": "code",
   "execution_count": 2,
   "id": "dc9feae9-8bb5-4848-99f4-eebc815442d0",
   "metadata": {},
   "outputs": [],
   "source": [
    "struct SignedGamma\n",
    "    gamma::Gamma{Float64}\n",
    "    positive::Bool\n",
    "end\n",
    "\n",
    "function SignedGamma(gamma::Gamma; positive::Bool)\n",
    "    return SignedGamma(gamma, positive)\n",
    "end\n",
    "\n",
    "function SignedGamma(α::Real, θ::Real; positive::Bool)\n",
    "    return SignedGamma(Gamma(α, θ); positive)\n",
    "end\n",
    "\n",
    "function Base.rand(r::AbstractRNG, d::SignedGamma)\n",
    "    if d.positive\n",
    "        return rand(r, d.gamma)\n",
    "    else\n",
    "        return -rand(r, d.gamma)\n",
    "    end\n",
    "end\n",
    "function Base.rand(r::AbstractRNG, d::SignedGamma, n::Int)\n",
    "    if d.positive\n",
    "        return rand(r, d.gamma, n)\n",
    "    else\n",
    "        return -rand(r, d.gamma, n)\n",
    "    end\n",
    "end\n",
    "\n",
    "function DensityInterface.logdensityof(d::SignedGamma, x::Real)\n",
    "    if d.positive\n",
    "        return logpdf(d.gamma, x)\n",
    "    else\n",
    "        return logpdf(d.gamma, -x)\n",
    "    end\n",
    "end\n",
    "\n",
    "function Distributions.pdf(d::SignedGamma, x::AbstractArray)\n",
    "    if d.positive\n",
    "        return pdf.(d.gamma, x)\n",
    "    else\n",
    "        return pdf.(d.gamma, -x)\n",
    "    end\n",
    "end"
   ]
  },
  {
   "cell_type": "code",
   "execution_count": 3,
   "id": "9231ec1f-229b-4e27-9639-d9680fa312c4",
   "metadata": {},
   "outputs": [
    {
     "data": {
      "text/plain": [
       "sample_mixture (generic function with 1 method)"
      ]
     },
     "execution_count": 3,
     "metadata": {},
     "output_type": "execute_result"
    }
   ],
   "source": [
    "function sample_mixture(ds::Vector{Any}, weights::Vector{Float64}; N::Int=10000)\n",
    "    samples = Matrix{Float64}(undef, (N,length(ds)))\n",
    "    for i in 1:length(ds)\n",
    "        samples[:,i] .= rand(ds[i], N)\n",
    "    end\n",
    "    inds = sample([1,2,3], Weights(weights), N)\n",
    "    return [samples[i,inds[i]] for i in 1:N]\n",
    "end"
   ]
  },
  {
   "cell_type": "code",
   "execution_count": null,
   "id": "7d9f65a6-c3cf-416b-a681-0cd62774b301",
   "metadata": {},
   "outputs": [],
   "source": []
  },
  {
   "cell_type": "markdown",
   "id": "775c5e2f-4b27-4258-a80e-bad113de73f6",
   "metadata": {},
   "source": [
    "# Data"
   ]
  },
  {
   "cell_type": "code",
   "execution_count": 4,
   "id": "aff1d4bf-f895-4248-bed3-c14480048dc4",
   "metadata": {},
   "outputs": [],
   "source": [
    "TEMPS = [18,22,26,30,33];"
   ]
  },
  {
   "cell_type": "code",
   "execution_count": 5,
   "id": "35bb168b-5494-4fc8-a5da-d5cd4983c8e8",
   "metadata": {},
   "outputs": [
    {
     "data": {
      "text/plain": [
       "\"/SEC/ZebraFish/Tools_Analysis/IBIO-Banyuls2023-Python/content/banyuls_data/behaviour_free_swimming.h5\""
      ]
     },
     "execution_count": 5,
     "metadata": {},
     "output_type": "execute_result"
    }
   ],
   "source": [
    "data_path = \"/SEC/ZebraFish/Tools_Analysis/IBIO-Banyuls2023-Python/content/banyuls_data/behaviour_free_swimming.h5\""
   ]
  },
  {
   "cell_type": "code",
   "execution_count": 6,
   "id": "dc8bf047-7608-4802-adcf-c9e4df5fecc9",
   "metadata": {},
   "outputs": [
    {
     "data": {
      "text/plain": [
       "load_all_dtheta (generic function with 1 method)"
      ]
     },
     "execution_count": 6,
     "metadata": {},
     "output_type": "execute_result"
    }
   ],
   "source": [
    "function load_all_dtheta(T::Int)\n",
    "    dtheta = h5read(data_path, \"behaviour/$(T)/dtheta\")\n",
    "    all_trajs = collect(eachcol(replace(dtheta, NaN => missing, 0 => missing)));\n",
    "    flat_trajs = reduce(vcat, [a[:,1] for a in all_trajs]);\n",
    "    flat_trajs = Float64.(flat_trajs[findall(!ismissing,flat_trajs)]);\n",
    "    return flat_trajs\n",
    "end"
   ]
  },
  {
   "cell_type": "code",
   "execution_count": null,
   "id": "8ff3cfe5-1a38-4fd3-9b37-2b5634e1f779",
   "metadata": {},
   "outputs": [],
   "source": []
  },
  {
   "cell_type": "markdown",
   "id": "b2da928b-6bd5-4fd4-b3f8-7c8988911662",
   "metadata": {},
   "source": [
    "# Output File"
   ]
  },
  {
   "cell_type": "code",
   "execution_count": 7,
   "id": "fb1f7eb4-5b71-4828-bdfd-97bf1a0f9400",
   "metadata": {},
   "outputs": [
    {
     "data": {
      "text/plain": [
       "\"data_/mixtures.h5\""
      ]
     },
     "execution_count": 7,
     "metadata": {},
     "output_type": "execute_result"
    }
   ],
   "source": [
    "out_path = \"data_/mixtures.h5\""
   ]
  },
  {
   "cell_type": "code",
   "execution_count": 35,
   "id": "642c5bea-ef10-4c6e-ba90-f85be0ea6fe6",
   "metadata": {},
   "outputs": [],
   "source": [
    "# create file structure\n",
    "outf = h5open(out_path, \"w\")\n",
    "for t in TEMPS\n",
    "    grp = create_group(outf, \"$(t)\")\n",
    "    create_group(grp, \"Gamma-Normal-Gamma\")\n",
    "    create_group(grp, \"Normal-Normal-Normal\")\n",
    "    create_group(grp, \"TruncNormal-Normal-TruncNormal\")\n",
    "end\n",
    "close(outf)"
   ]
  },
  {
   "cell_type": "raw",
   "id": "add57298-fb4b-4063-976d-c11e219685d9",
   "metadata": {},
   "source": []
  },
  {
   "cell_type": "markdown",
   "id": "69a9f678-1cdd-4517-a135-8f0414a6d34d",
   "metadata": {},
   "source": [
    "# Mixture Models"
   ]
  },
  {
   "cell_type": "markdown",
   "id": "cd2cc7b5-24dd-4e1c-89ae-74e6cccf98c5",
   "metadata": {},
   "source": [
    "## Gamma-Normal-Gamma"
   ]
  },
  {
   "cell_type": "code",
   "execution_count": 18,
   "id": "0c1eec6b-e9d3-4edb-b4b3-b82ec950296f",
   "metadata": {},
   "outputs": [
    {
     "data": {
      "text/plain": [
       "ll (generic function with 1 method)"
      ]
     },
     "execution_count": 18,
     "metadata": {},
     "output_type": "execute_result"
    }
   ],
   "source": [
    "function ll(data::Vector, Nσ::Real, Gα::Real, Gβ::Real, mix::Vector)\n",
    "    F = Normal(0,Nσ)\n",
    "    R = SignedGamma(Gα,Gβ;positive=true)\n",
    "    L = SignedGamma(Gα,Gβ;positive=false)\n",
    "    a = mix[1].*pdf.(F,data) .+ mix[2].*pdf(R,-data) .+ mix[3].*pdf(L,-data);\n",
    "    return log.(a)\n",
    "end"
   ]
  },
  {
   "cell_type": "code",
   "execution_count": null,
   "id": "773f05f2-b8af-4a99-b574-f6242ee72952",
   "metadata": {},
   "outputs": [],
   "source": []
  },
  {
   "cell_type": "code",
   "execution_count": 38,
   "id": "e299f3ca-b08a-41d6-98e5-0471ad9885cd",
   "metadata": {},
   "outputs": [
    {
     "name": "stdout",
     "output_type": "stream",
     "text": [
      "loading 18°C\n",
      "optimizing 18°C\n",
      "Sampling 18°C\n",
      "Saving 18°C\n",
      "loading 22°C\n",
      "optimizing 22°C\n",
      "Sampling 22°C\n",
      "Saving 22°C\n",
      "loading 26°C\n",
      "optimizing 26°C\n",
      "Sampling 26°C\n",
      "Saving 26°C\n",
      "loading 30°C\n",
      "optimizing 30°C\n",
      "Sampling 30°C\n",
      "Saving 30°C\n",
      "loading 33°C\n",
      "optimizing 33°C\n",
      "Sampling 33°C\n",
      "Saving 33°C\n"
     ]
    }
   ],
   "source": [
    "outf = h5open(out_path, \"cw\")\n",
    "for t in TEMPS\n",
    "    println(\"loading $(t)°C\")\n",
    "    data = load_all_dtheta(t)\n",
    "\n",
    "    println(\"optimizing $(t)°C\")\n",
    "    function nll(Θ::Vector)\n",
    "        return -sum(ll(data, Θ[1], Θ[2], Θ[3], [Θ[4],(1-Θ[4])/2,(1-Θ[4])/2]))\n",
    "    end\n",
    "    θ0 = [3.4542, 2.562, 13.861, 0.5379]\n",
    "    res = optimize(\n",
    "        nll, \n",
    "        [1.e-5, 1.e-5, 1.e-5, 1.e-5],\n",
    "        [100, 100, 100, 1-1.e-5],\n",
    "        θ0,\n",
    "    )\n",
    "    θ = minimizer(res)\n",
    "    Nσ = θ[1]\n",
    "    Gα = θ[2]\n",
    "    Gβ = θ[3]\n",
    "    mix = [ θ[4], (1-θ[4])/2, (1-θ[4])/2 ]\n",
    "\n",
    "    println(\"Sampling $(t)°C\")\n",
    "    F = Normal(0,Nσ)\n",
    "    R = SignedGamma(Gα,Gβ;positive=true)\n",
    "    L = SignedGamma(Gα,Gβ;positive=false)\n",
    "    sampl = sample_mixture([F,R,L], mix; N=100000);\n",
    "    qq = qqbuild(data, sampl)\n",
    "\n",
    "    println(\"Saving $(t)°C\")\n",
    "    grp = outf[\"$(t)/Gamma-Normal-Gamma\"]\n",
    "    grp[\"σ\"] = Nσ\n",
    "    grp[\"α\"] = Gα\n",
    "    grp[\"β\"] = Gβ\n",
    "    grp[\"weights\"] = mix\n",
    "    grp[\"QQx\"] = qq.qx\n",
    "    grp[\"QQy\"] = qq.qy\n",
    "end\n",
    "close(outf)"
   ]
  },
  {
   "cell_type": "code",
   "execution_count": 51,
   "id": "2ca32acc-fd85-4bd4-a8df-a2fd1a49be4b",
   "metadata": {},
   "outputs": [
    {
     "data": {
      "image/png": "[encoded data removed]"
     },
     "execution_count": 51,
     "metadata": {},
     "output_type": "execute_result"
    }
   ],
   "source": [
    "outf = h5open(out_path, \"r\")\n",
    "\n",
    "fig = Figure()\n",
    "ax = Axis(fig[1,1])\n",
    "for t in TEMPS\n",
    "    lines!(ax, outf[\"$(t)/Gamma-Normal-Gamma/QQx\"][:], outf[\"$(t)/Gamma-Normal-Gamma/QQy\"][:])\n",
    "end\n",
    "\n",
    "close(outf)\n",
    "fig"
   ]
  },
  {
   "cell_type": "code",
   "execution_count": null,
   "id": "36c8c931-81ce-45fa-93ec-88674bc7fe27",
   "metadata": {},
   "outputs": [],
   "source": []
  },
  {
   "cell_type": "markdown",
   "id": "8e35cfb1-3bec-46f4-a99a-05f7395b6ca1",
   "metadata": {},
   "source": [
    "## Normal-Normal-Normal"
   ]
  },
  {
   "cell_type": "code",
   "execution_count": 83,
   "id": "e1eb75c5-2bc2-437a-84fa-1496c37bc21d",
   "metadata": {},
   "outputs": [
    {
     "data": {
      "text/plain": [
       "ll (generic function with 1 method)"
      ]
     },
     "execution_count": 83,
     "metadata": {},
     "output_type": "execute_result"
    }
   ],
   "source": [
    "function ll(data::Vector, Fσ::Real, Tσ::Real, Tμ::Real, mix::Vector)\n",
    "    F = Normal(0,Fσ)\n",
    "    R = Normal(Tμ,Tσ)\n",
    "    L = Normal(-Tμ,Tσ)\n",
    "    a = mix[1].*pdf.(F,data) .+ mix[2].*pdf.(R,data) .+ mix[3].*pdf.(L,data);\n",
    "    return log.(a)\n",
    "end"
   ]
  },
  {
   "cell_type": "code",
   "execution_count": null,
   "id": "5081f8a2-3b2e-4325-a93d-b803cb6f3ae0",
   "metadata": {},
   "outputs": [],
   "source": []
  },
  {
   "cell_type": "code",
   "execution_count": 100,
   "id": "4762029f-d76a-4ae8-8918-b3723af9ba9f",
   "metadata": {},
   "outputs": [
    {
     "name": "stdout",
     "output_type": "stream",
     "text": [
      "loading 18°C\n",
      "optimizing 18°C\n",
      "Sampling 18°C\n",
      "Saving 18°C\n",
      "loading 22°C\n",
      "optimizing 22°C\n",
      "Sampling 22°C\n",
      "Saving 22°C\n",
      "loading 26°C\n",
      "optimizing 26°C\n",
      "Sampling 26°C\n",
      "Saving 26°C\n",
      "loading 30°C\n",
      "optimizing 30°C\n",
      "Sampling 30°C\n",
      "Saving 30°C\n",
      "loading 33°C\n",
      "optimizing 33°C\n",
      "Sampling 33°C\n",
      "Saving 33°C\n"
     ]
    }
   ],
   "source": [
    "outf = h5open(out_path, \"cw\")\n",
    "for t in TEMPS\n",
    "    println(\"loading $(t)°C\")\n",
    "    data = load_all_dtheta(t)\n",
    "\n",
    "    println(\"optimizing $(t)°C\")\n",
    "    function nll(Θ::Vector)\n",
    "        return -sum(ll(data, Θ[1], Θ[2], Θ[3], [Θ[4],(1-Θ[4])/2,(1-Θ[4])/2]))\n",
    "    end\n",
    "    θ0 = [10, 25, 30, 0.5]\n",
    "    res = optimize(\n",
    "        nll, \n",
    "        [1.e-5, 1.e-5, 1.e-5, 1.e-5],\n",
    "        [100, 100, 100, 1-1.e-5],\n",
    "        θ0,\n",
    "    )\n",
    "    θ = minimizer(res)\n",
    "    Fσ = θ[1]\n",
    "    Tσ = θ[2]\n",
    "    Tμ = θ[3]\n",
    "    mix = [ θ[4], (1-θ[4])/2, (1-θ[4])/2 ]\n",
    "\n",
    "    println(\"Sampling $(t)°C\")\n",
    "    F = Normal(0,Fσ)\n",
    "    R = Normal(Tμ,Tσ)\n",
    "    L = Normal(-Tμ,Tσ)\n",
    "    sampl = sample_mixture(Vector{Any}([F,R,L]), mix; N=100000);\n",
    "    qq = qqbuild(data, sampl)\n",
    "\n",
    "    println(\"Saving $(t)°C\")\n",
    "    grp = outf[\"$(t)/Normal-Normal-Normal\"]\n",
    "    grp[\"Fσ\"] = Fσ\n",
    "    grp[\"Tσ\"] = Tσ\n",
    "    grp[\"Tμ\"] = Tμ\n",
    "    grp[\"weights\"] = mix\n",
    "    grp[\"QQx\"] = qq.qx\n",
    "    grp[\"QQy\"] = qq.qy\n",
    "end\n",
    "close(outf)"
   ]
  },
  {
   "cell_type": "code",
   "execution_count": 103,
   "id": "37c0ff28-2cba-4436-b368-9e5e41b30b94",
   "metadata": {},
   "outputs": [
    {
     "data": {
      "image/png": "[encoded data removed]"
     },
     "execution_count": 103,
     "metadata": {},
     "output_type": "execute_result"
    }
   ],
   "source": [
    "outf = h5open(out_path, \"r\")\n",
    "\n",
    "fig = Figure()\n",
    "ax = Axis(fig[1,1])\n",
    "for t in TEMPS\n",
    "    lines!(ax, outf[\"$(t)/Normal-Normal-Normal/QQx\"][:], outf[\"$(t)/Normal-Normal-Normal/QQy\"][:])\n",
    "end\n",
    "\n",
    "close(outf)\n",
    "fig"
   ]
  },
  {
   "cell_type": "code",
   "execution_count": null,
   "id": "ced1921c-cd1e-4865-a050-5d858947ac4e",
   "metadata": {},
   "outputs": [],
   "source": []
  },
  {
   "cell_type": "code",
   "execution_count": null,
   "id": "6cf22f5b-05a5-4853-b7d4-3853ed8cd048",
   "metadata": {},
   "outputs": [],
   "source": []
  },
  {
   "cell_type": "markdown",
   "id": "1b90c2e7-bfef-4689-a892-7566d0a880f5",
   "metadata": {},
   "source": [
    "## TruncNormal-Normal-TruncNormal"
   ]
  },
  {
   "cell_type": "code",
   "execution_count": 107,
   "id": "2a35ab6d-4730-4f8d-8e6b-69c690aab3a0",
   "metadata": {},
   "outputs": [
    {
     "data": {
      "text/plain": [
       "ll (generic function with 2 methods)"
      ]
     },
     "execution_count": 107,
     "metadata": {},
     "output_type": "execute_result"
    }
   ],
   "source": [
    "function ll(data::Vector, Fσ::Real, Tσ::Real, Tμ::Real, Tτ::Real ,mix::Vector)\n",
    "    F = Normal(0,Fσ)\n",
    "    R = truncated(Normal(Tμ,Tσ); lower=Tτ, upper=Inf)\n",
    "    L = truncated(Normal(-Tμ,Tσ); lower=-Inf, upper=-Tτ)\n",
    "    a = mix[1].*pdf.(F,data) .+ mix[2].*pdf.(R,data) .+ mix[3].*pdf.(L,data);\n",
    "    return log.(a)\n",
    "end"
   ]
  },
  {
   "cell_type": "code",
   "execution_count": null,
   "id": "0d61764f-b723-4cd8-9b62-e537c746f088",
   "metadata": {},
   "outputs": [],
   "source": []
  },
  {
   "cell_type": "code",
   "execution_count": 118,
   "id": "c9dfcfab-6005-4b9e-98e9-325e3530ba4e",
   "metadata": {},
   "outputs": [
    {
     "name": "stdout",
     "output_type": "stream",
     "text": [
      "loading 18°C\n",
      "optimizing 18°C\n"
     ]
    },
    {
     "name": "stderr",
     "output_type": "stream",
     "text": [
      "\u001b[33m\u001b[1m┌ \u001b[22m\u001b[39m\u001b[33m\u001b[1mWarning: \u001b[22m\u001b[39mInitial position cannot be on the boundary of the box. Moving elements to the interior.\n",
      "\u001b[33m\u001b[1m│ \u001b[22m\u001b[39mElement indices affected: [4]\n",
      "\u001b[33m\u001b[1m└ \u001b[22m\u001b[39m\u001b[90m@ Optim ~/.julia/packages/Optim/V8ZEC/src/multivariate/solvers/constrained/fminbox.jl:314\u001b[39m\n"
     ]
    },
    {
     "name": "stdout",
     "output_type": "stream",
     "text": [
      "Sampling 18°C\n",
      "Saving 18°C\n",
      "loading 22°C\n",
      "optimizing 22°C\n"
     ]
    },
    {
     "name": "stderr",
     "output_type": "stream",
     "text": [
      "\u001b[33m\u001b[1m┌ \u001b[22m\u001b[39m\u001b[33m\u001b[1mWarning: \u001b[22m\u001b[39mInitial position cannot be on the boundary of the box. Moving elements to the interior.\n",
      "\u001b[33m\u001b[1m│ \u001b[22m\u001b[39mElement indices affected: [4]\n",
      "\u001b[33m\u001b[1m└ \u001b[22m\u001b[39m\u001b[90m@ Optim ~/.julia/packages/Optim/V8ZEC/src/multivariate/solvers/constrained/fminbox.jl:314\u001b[39m\n"
     ]
    },
    {
     "name": "stdout",
     "output_type": "stream",
     "text": [
      "Sampling 22°C\n",
      "Saving 22°C\n",
      "loading 26°C\n",
      "optimizing 26°C\n"
     ]
    },
    {
     "name": "stderr",
     "output_type": "stream",
     "text": [
      "\u001b[33m\u001b[1m┌ \u001b[22m\u001b[39m\u001b[33m\u001b[1mWarning: \u001b[22m\u001b[39mInitial position cannot be on the boundary of the box. Moving elements to the interior.\n",
      "\u001b[33m\u001b[1m│ \u001b[22m\u001b[39mElement indices affected: [4]\n",
      "\u001b[33m\u001b[1m└ \u001b[22m\u001b[39m\u001b[90m@ Optim ~/.julia/packages/Optim/V8ZEC/src/multivariate/solvers/constrained/fminbox.jl:314\u001b[39m\n"
     ]
    },
    {
     "name": "stdout",
     "output_type": "stream",
     "text": [
      "Sampling 26°C\n",
      "Saving 26°C\n",
      "loading 30°C\n",
      "optimizing 30°C\n"
     ]
    },
    {
     "name": "stderr",
     "output_type": "stream",
     "text": [
      "\u001b[33m\u001b[1m┌ \u001b[22m\u001b[39m\u001b[33m\u001b[1mWarning: \u001b[22m\u001b[39mInitial position cannot be on the boundary of the box. Moving elements to the interior.\n",
      "\u001b[33m\u001b[1m│ \u001b[22m\u001b[39mElement indices affected: [4]\n",
      "\u001b[33m\u001b[1m└ \u001b[22m\u001b[39m\u001b[90m@ Optim ~/.julia/packages/Optim/V8ZEC/src/multivariate/solvers/constrained/fminbox.jl:314\u001b[39m\n"
     ]
    },
    {
     "name": "stdout",
     "output_type": "stream",
     "text": [
      "Sampling 30°C\n",
      "Saving 30°C\n",
      "loading 33°C\n",
      "optimizing 33°C\n"
     ]
    },
    {
     "name": "stderr",
     "output_type": "stream",
     "text": [
      "\u001b[33m\u001b[1m┌ \u001b[22m\u001b[39m\u001b[33m\u001b[1mWarning: \u001b[22m\u001b[39mInitial position cannot be on the boundary of the box. Moving elements to the interior.\n",
      "\u001b[33m\u001b[1m│ \u001b[22m\u001b[39mElement indices affected: [4]\n",
      "\u001b[33m\u001b[1m└ \u001b[22m\u001b[39m\u001b[90m@ Optim ~/.julia/packages/Optim/V8ZEC/src/multivariate/solvers/constrained/fminbox.jl:314\u001b[39m\n"
     ]
    },
    {
     "name": "stdout",
     "output_type": "stream",
     "text": [
      "Sampling 33°C\n",
      "Saving 33°C\n"
     ]
    }
   ],
   "source": [
    "outf = h5open(out_path, \"cw\")\n",
    "for t in TEMPS\n",
    "    println(\"loading $(t)°C\")\n",
    "    data = load_all_dtheta(t)\n",
    "\n",
    "    println(\"optimizing $(t)°C\")\n",
    "    function nll(Θ::Vector)\n",
    "        return -sum(ll(data, Θ[1], Θ[2], Θ[3], Θ[4], [Θ[5],(1-Θ[5])/2,(1-Θ[5])/2]))\n",
    "    end\n",
    "    θ0 = [10, 25, 30, 1.e-5, 0.5]\n",
    "    res = optimize(\n",
    "        nll, \n",
    "        [1.e-5, 1.e-5, 1.e-5, 1.e-5, 1.e-5],\n",
    "        [100, 100, 100, 50, 1-1.e-5],\n",
    "        θ0,\n",
    "    )\n",
    "    θ = minimizer(res)\n",
    "    Fσ = θ[1]\n",
    "    Tσ = θ[2]\n",
    "    Tμ = θ[3]\n",
    "    Tτ = θ[4]\n",
    "    mix = [ θ[5], (1-θ[5])/2, (1-θ[5])/2 ]\n",
    "\n",
    "    println(\"Sampling $(t)°C\")\n",
    "    F = Normal(0,Fσ)\n",
    "    R = truncated(Normal(Tμ,Tσ); lower=Tτ, upper=Inf)\n",
    "    L = truncated(Normal(-Tμ,Tσ); lower=-Inf, upper=-Tτ)\n",
    "    sampl = sample_mixture(Vector{Any}([F,R,L]), mix; N=100000);\n",
    "    qq = qqbuild(data, sampl)\n",
    "\n",
    "    println(\"Saving $(t)°C\")\n",
    "    grp = outf[\"$(t)/TruncNormal-Normal-TruncNormal\"]\n",
    "    grp[\"Fσ\"] = Fσ\n",
    "    grp[\"Tσ\"] = Tσ\n",
    "    grp[\"Tμ\"] = Tμ\n",
    "    grp[\"Tτ\"] = Tτ\n",
    "    grp[\"weights\"] = mix\n",
    "    grp[\"QQx\"] = qq.qx\n",
    "    grp[\"QQy\"] = qq.qy\n",
    "end\n",
    "close(outf)"
   ]
  },
  {
   "cell_type": "code",
   "execution_count": 119,
   "id": "c80286b9-d380-40a9-b765-6148738f52fe",
   "metadata": {},
   "outputs": [
    {
     "data": {
      "image/png": "[encoded data removed]"
     },
     "execution_count": 119,
     "metadata": {},
     "output_type": "execute_result"
    }
   ],
   "source": [
    "outf = h5open(out_path, \"r\")\n",
    "\n",
    "fig = Figure()\n",
    "ax = Axis(fig[1,1])\n",
    "for t in TEMPS\n",
    "    lines!(ax, outf[\"$(t)/TruncNormal-Normal-TruncNormal/QQx\"][:], outf[\"$(t)/TruncNormal-Normal-TruncNormal/QQy\"][:])\n",
    "end\n",
    "\n",
    "close(outf)\n",
    "fig"
   ]
  },
  {
   "cell_type": "code",
   "execution_count": null,
   "id": "74f1d981-29c1-4704-945b-1dfac5e070cf",
   "metadata": {},
   "outputs": [],
   "source": []
  },
  {
   "cell_type": "code",
   "execution_count": null,
   "id": "16ea7632-3a97-4158-bd3d-001165c3be76",
   "metadata": {},
   "outputs": [],
   "source": []
  },
  {
   "cell_type": "code",
   "execution_count": null,
   "id": "8a5255c0-b57c-408d-bded-dce6a2446313",
   "metadata": {},
   "outputs": [],
   "source": []
  },
  {
   "cell_type": "code",
   "execution_count": null,
   "id": "89e9c9b0-3420-4587-b846-2892daaba768",
   "metadata": {},
   "outputs": [],
   "source": []
  },
  {
   "cell_type": "code",
   "execution_count": null,
   "id": "8f8534cf-553c-412d-8a3b-169258cb5df3",
   "metadata": {},
   "outputs": [],
   "source": []
  },
  {
   "cell_type": "code",
   "execution_count": null,
   "id": "ea630a6b-bd68-47e2-ae40-157a3fb2072c",
   "metadata": {},
   "outputs": [],
   "source": []
  },
  {
   "cell_type": "code",
   "execution_count": null,
   "id": "a73b2230-aedb-46dc-ad98-751649ac5248",
   "metadata": {},
   "outputs": [],
   "source": []
  },
  {
   "cell_type": "code",
   "execution_count": null,
   "id": "f733ce4b-fe8d-4b47-9301-7c254c0d4a83",
   "metadata": {},
   "outputs": [],
   "source": []
  }
 ],
 "metadata": {
  "kernelspec": {
   "display_name": "Julia 8 Threads 1.9.3",
   "language": "julia",
   "name": "julia-8-threads-1.9"
  },
  "language_info": {
   "file_extension": ".jl",
   "mimetype": "application/julia",
   "name": "julia",
   "version": "1.9.3"
  }
 },
 "nbformat": 4,
 "nbformat_minor": 5
}
