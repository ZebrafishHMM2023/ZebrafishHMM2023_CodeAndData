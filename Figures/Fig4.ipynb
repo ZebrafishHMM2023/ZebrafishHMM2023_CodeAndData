{
 "cells": [
  {
   "cell_type": "code",
   "execution_count": 1,
   "id": "643be582-5eff-4c33-8c47-9ca4ed852e89",
   "metadata": {},
   "outputs": [],
   "source": [
    "%load_ext autoreload\n",
    "%autoreload 2"
   ]
  },
  {
   "cell_type": "code",
   "execution_count": 2,
   "id": "2ce478da-076d-43be-aacc-84dad2fc5a91",
   "metadata": {},
   "outputs": [
    {
     "name": "stdout",
     "output_type": "stream",
     "text": [
      "Extracting data from ../Data/behavior_free_swimming.tar.gz...\n",
      "Extracting models from ../Models/hmms_20240125.tar.gz...\n",
      "Extracting models from ../Models/longtrajectories_20240202.tar.gz...\n"
     ]
    }
   ],
   "source": [
    "%config InlineBackend.figure_format = 'retina'\n",
    "from setup import *"
   ]
  },
  {
   "cell_type": "code",
   "execution_count": null,
   "id": "5fd6820b-d310-4cf5-8b11-82dc5aa4fae7",
   "metadata": {},
   "outputs": [],
   "source": []
  },
  {
   "cell_type": "code",
   "execution_count": null,
   "id": "433dc7cf-612f-46b5-aad5-1c804e5516cd",
   "metadata": {},
   "outputs": [],
   "source": []
  },
  {
   "cell_type": "code",
   "execution_count": null,
   "id": "51f87597-9cd4-4ad8-af57-1ac3f17b94fd",
   "metadata": {},
   "outputs": [],
   "source": []
  },
  {
   "cell_type": "markdown",
   "id": "ac2c4a02-f285-45f3-8304-8055d36d20fa",
   "metadata": {},
   "source": [
    "# Figure"
   ]
  },
  {
   "cell_type": "code",
   "execution_count": null,
   "id": "8aacab3c-63f9-4607-b359-9d89f6465ae6",
   "metadata": {},
   "outputs": [],
   "source": []
  },
  {
   "cell_type": "code",
   "execution_count": null,
   "id": "1f12119b-b32c-4b34-8471-f4d1b00beec3",
   "metadata": {},
   "outputs": [],
   "source": []
  },
  {
   "cell_type": "code",
   "execution_count": null,
   "id": "0e810f07-aa49-455e-b512-a7b61e633a43",
   "metadata": {},
   "outputs": [],
   "source": []
  },
  {
   "cell_type": "markdown",
   "id": "b0d15508-2e89-40c1-93bd-e778872bee13",
   "metadata": {},
   "source": [
    "# Supplementaries"
   ]
  },
  {
   "cell_type": "code",
   "execution_count": null,
   "id": "6b2d3545-a8c5-42f7-b9b0-0fb30079b07e",
   "metadata": {},
   "outputs": [],
   "source": []
  },
  {
   "cell_type": "code",
   "execution_count": null,
   "id": "dd874a49-aef3-4e28-8b1e-7d7c7c77a034",
   "metadata": {},
   "outputs": [],
   "source": []
  },
  {
   "cell_type": "code",
   "execution_count": null,
   "id": "97c4561c-7847-4a4a-8f48-546e2dc89728",
   "metadata": {},
   "outputs": [],
   "source": []
  }
 ],
 "metadata": {
  "kernelspec": {
   "display_name": "Python 3 (ipykernel)",
   "language": "python",
   "name": "python3"
  },
  "language_info": {
   "codemirror_mode": {
    "name": "ipython",
    "version": 3
   },
   "file_extension": ".py",
   "mimetype": "text/x-python",
   "name": "python",
   "nbconvert_exporter": "python",
   "pygments_lexer": "ipython3",
   "version": "3.10.12"
  }
 },
 "nbformat": 4,
 "nbformat_minor": 5
}
