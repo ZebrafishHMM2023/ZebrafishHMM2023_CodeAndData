{
 "cells": [
  {
   "cell_type": "code",
   "execution_count": 1,
   "id": "4c118ec4-0236-4c96-8429-35b7d902c70a",
   "metadata": {},
   "outputs": [],
   "source": [
    "%load_ext autoreload\n",
    "%autoreload 2"
   ]
  },
  {
   "cell_type": "code",
   "execution_count": 2,
   "id": "28c44221-8af0-4b3b-b90c-ef766f95e82f",
   "metadata": {},
   "outputs": [
    {
     "name": "stdout",
     "output_type": "stream",
     "text": [
      "Extracting data from ../Data/behavior_free_swimming.tar.gz...\n",
      "Extracting models from ../Models/hmms_20240125.tar.gz...\n",
      "Extracting models from ../Models/longtrajectories_20240202.tar.gz...\n"
     ]
    }
   ],
   "source": [
    "%config InlineBackend.figure_format = 'retina'\n",
    "from setup import *"
   ]
  },
  {
   "cell_type": "code",
   "execution_count": null,
   "id": "ca252199-4690-4437-a594-60bcf90d61ed",
   "metadata": {},
   "outputs": [],
   "source": []
  },
  {
   "cell_type": "code",
   "execution_count": null,
   "id": "85f9304c-c51b-4b36-8fd2-fd72cbc62922",
   "metadata": {},
   "outputs": [],
   "source": []
  },
  {
   "cell_type": "code",
   "execution_count": null,
   "id": "20b48409-0340-4f8a-b1c6-a7515c0d580f",
   "metadata": {},
   "outputs": [],
   "source": []
  },
  {
   "cell_type": "markdown",
   "id": "8c5ab064-948e-48e0-9a7f-8430bd97a68d",
   "metadata": {},
   "source": [
    "# Figure"
   ]
  },
  {
   "cell_type": "code",
   "execution_count": null,
   "id": "dc348aed-1d49-462f-9964-66145a4ba58a",
   "metadata": {},
   "outputs": [],
   "source": []
  },
  {
   "cell_type": "code",
   "execution_count": null,
   "id": "e2518864-fa56-424a-a4f4-7c2ccbd015bd",
   "metadata": {},
   "outputs": [],
   "source": []
  },
  {
   "cell_type": "code",
   "execution_count": null,
   "id": "2eb2e9f3-8651-4f19-b4e5-39d327c69afe",
   "metadata": {},
   "outputs": [],
   "source": []
  },
  {
   "cell_type": "code",
   "execution_count": null,
   "id": "e9a1e6d7-6c33-424d-8ba2-46df29d95f51",
   "metadata": {},
   "outputs": [],
   "source": []
  },
  {
   "cell_type": "code",
   "execution_count": null,
   "id": "37bb68ad-2d53-4da1-9cf0-e3eaeeda1fc4",
   "metadata": {},
   "outputs": [],
   "source": []
  },
  {
   "cell_type": "code",
   "execution_count": null,
   "id": "85834281-140a-465a-9c1b-ee44b5613a1c",
   "metadata": {},
   "outputs": [],
   "source": []
  },
  {
   "cell_type": "code",
   "execution_count": null,
   "id": "f8180aee-334e-4bb1-b3ef-52314160d833",
   "metadata": {},
   "outputs": [],
   "source": []
  },
  {
   "cell_type": "markdown",
   "id": "1227e8bb-8843-43cf-8fc2-b0aefb044680",
   "metadata": {},
   "source": [
    "# Supplementaries"
   ]
  }
 ],
 "metadata": {
  "kernelspec": {
   "display_name": "Python 3 (ipykernel)",
   "language": "python",
   "name": "python3"
  },
  "language_info": {
   "codemirror_mode": {
    "name": "ipython",
    "version": 3
   },
   "file_extension": ".py",
   "mimetype": "text/x-python",
   "name": "python",
   "nbconvert_exporter": "python",
   "pygments_lexer": "ipython3",
   "version": "3.10.12"
  }
 },
 "nbformat": 4,
 "nbformat_minor": 5
}
